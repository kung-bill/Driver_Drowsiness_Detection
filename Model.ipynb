{
 "cells": [
  {
   "cell_type": "code",
   "execution_count": 1,
   "metadata": {},
   "outputs": [
    {
     "name": "stderr",
     "output_type": "stream",
     "text": [
      "C:\\Users\\T-Rex\\Anaconda3\\lib\\site-packages\\h5py\\__init__.py:36: FutureWarning: Conversion of the second argument of issubdtype from `float` to `np.floating` is deprecated. In future, it will be treated as `np.float64 == np.dtype(float).type`.\n",
      "  from ._conv import register_converters as _register_converters\n"
     ]
    }
   ],
   "source": [
    "import numpy as np\n",
    "import pandas as pd\n",
    "import tensorflow as tf\n",
    "from tensorflow import keras\n",
    "from tensorflow.keras import backend\n",
    "from tensorflow.keras.preprocessing.image import ImageDataGenerator\n",
    "from tensorflow.keras.layers import Input, Conv2D, MaxPooling2D, GlobalAveragePooling2D, BatchNormalization\n",
    "from tensorflow.keras.layers import Dense, Dropout, Flatten, Activation, Concatenate, Lambda\n",
    "from tensorflow.keras.models import Model\n",
    "from tensorflow.keras.callbacks import EarlyStopping, ReduceLROnPlateau, ModelCheckpoint\n",
    "from tensorflow.keras.optimizers import Adam\n",
    "from tensorflow.keras import regularizers, activations\n",
    "from tensorflow.keras.layers import Reshape\n"
   ]
  },
  {
   "cell_type": "code",
   "execution_count": 4,
   "metadata": {},
   "outputs": [],
   "source": [
    "def conv2d(x,numfilt,filtsz,strides=1,pad='same',act=True,name=None):\n",
    "    x = Conv2D(numfilt,kernel_size = filtsz,strides = strides,padding=pad,data_format='channels_last',use_bias=False,name=name+'conv2d')(x)\n",
    "    x = BatchNormalization(axis=3,scale=False,name=name+'conv2d'+'bn')(x)\n",
    "    \n",
    "    if act:\n",
    "        x = Activation('relu',name=name+'conv2d'+'act')(x)\n",
    "    \n",
    "    return x\n",
    "\n",
    "def incresA(x,scale,name=None):\n",
    "    pad = 'same'\n",
    "    branch0 = conv2d(x,32,1,1,pad,True,name=name+'b0')\n",
    "    branch1 = conv2d(x,32,1,1,pad,True,name=name+'b1_1')\n",
    "    branch1 = conv2d(branch1,32,3,1,pad,True,name=name+'b1_2')\n",
    "    branch2 = conv2d(x,32,1,1,pad,True,name=name+'b2_1')\n",
    "    branch2 = conv2d(branch2,48,3,1,pad,True,name=name+'b2_2')\n",
    "    branch2 = conv2d(branch2,64,3,1,pad,True,name=name+'b2_3')\n",
    "    branches = [branch0,branch1,branch2]\n",
    "    mixed = Concatenate(axis=3, name=name + '_concat')(branches)\n",
    "    filt_exp_1x1 = conv2d(mixed,384,1,1,pad,False,name=name+'filt_exp_1x1')\n",
    "    final_lay = Lambda(lambda inputs, scale: inputs[0] + inputs[1] * scale,\n",
    "                      output_shape=backend.int_shape(x)[1:],\n",
    "                      arguments={'scale': scale},\n",
    "                      name=name+'act_scaling')([x, filt_exp_1x1])\n",
    "    return final_lay\n",
    "\n",
    "def incresB(x,scale,name=None):\n",
    "    pad = 'same'\n",
    "    branch0 = conv2d(x,192,1,1,pad,True,name=name+'b0')\n",
    "    branch1 = conv2d(x,128,1,1,pad,True,name=name+'b1_1')\n",
    "    branch1 = conv2d(branch1,160,[1,7],1,pad,True,name=name+'b1_2')\n",
    "    branch1 = conv2d(branch1,192,[7,1],1,pad,True,name=name+'b1_3')\n",
    "    branches = [branch0,branch1]\n",
    "    mixed = Concatenate(axis=3, name=name + '_mixed')(branches)\n",
    "    filt_exp_1x1 = conv2d(mixed,1152,1,1,pad,False,name=name+'filt_exp_1x1')\n",
    "    final_lay = Lambda(lambda inputs, scale: inputs[0] + inputs[1] * scale,\n",
    "                      output_shape=backend.int_shape(x)[1:],\n",
    "                      arguments={'scale': scale},\n",
    "                      name=name+'act_scaling')([x, filt_exp_1x1])\n",
    "    return final_lay\n",
    "\n",
    "def incresC(x,scale,name=None):\n",
    "    pad = 'same'\n",
    "    branch0 = conv2d(x,192,1,1,pad,True,name=name+'b0')\n",
    "    branch1 = conv2d(x,192,1,1,pad,True,name=name+'b1_1')\n",
    "    branch1 = conv2d(branch1,224,[1,3],1,pad,True,name=name+'b1_2')\n",
    "    branch1 = conv2d(branch1,256,[3,1],1,pad,True,name=name+'b1_3')\n",
    "    branches = [branch0,branch1]\n",
    "    mixed = Concatenate(axis=3, name=name + '_mixed')(branches)\n",
    "    filt_exp_1x1 = conv2d(mixed,2048,1,1,pad,False,name=name+'fin1x1')\n",
    "    final_lay = Lambda(lambda inputs, scale: inputs[0] + inputs[1] * scale,\n",
    "                      output_shape=backend.int_shape(x)[1:],\n",
    "                      arguments={'scale': scale},\n",
    "                      name=name+'act_saling')([x, filt_exp_1x1])\n",
    "    return final_lay\n",
    "\n"
   ]
  },
  {
   "cell_type": "code",
   "execution_count": null,
   "metadata": {},
   "outputs": [],
   "source": []
  }
 ],
 "metadata": {
  "kernelspec": {
   "display_name": "Python 3",
   "language": "python",
   "name": "python3"
  },
  "language_info": {
   "codemirror_mode": {
    "name": "ipython",
    "version": 3
   },
   "file_extension": ".py",
   "mimetype": "text/x-python",
   "name": "python",
   "nbconvert_exporter": "python",
   "pygments_lexer": "ipython3",
   "version": "3.6.5"
  }
 },
 "nbformat": 4,
 "nbformat_minor": 2
}
